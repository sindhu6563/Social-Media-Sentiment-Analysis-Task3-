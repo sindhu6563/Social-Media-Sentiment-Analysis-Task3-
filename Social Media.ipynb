{
 "cells": [
  {
   "cell_type": "markdown",
   "id": "b0e14d78-c134-4a7e-8a34-4ae444873d9f",
   "metadata": {},
   "source": [
    "# Social Media Sentiment Analysis"
   ]
  },
  {
   "cell_type": "markdown",
   "id": "a5999d64-00b1-4a61-8ad3-995eb4d2a935",
   "metadata": {},
   "source": [
    "### Installing textblob"
   ]
  },
  {
   "cell_type": "code",
   "execution_count": 5,
   "id": "db6314d7-fbaf-4632-8879-4f8813ecd078",
   "metadata": {},
   "outputs": [
    {
     "name": "stdout",
     "output_type": "stream",
     "text": [
      "Collecting textblob\n",
      "  Downloading textblob-0.18.0.post0-py3-none-any.whl.metadata (4.5 kB)\n",
      "Requirement already satisfied: nltk>=3.8 in c:\\users\\sindhu\\anaconda3\\lib\\site-packages (from textblob) (3.8.1)\n",
      "Requirement already satisfied: click in c:\\users\\sindhu\\anaconda3\\lib\\site-packages (from nltk>=3.8->textblob) (8.1.7)\n",
      "Requirement already satisfied: joblib in c:\\users\\sindhu\\anaconda3\\lib\\site-packages (from nltk>=3.8->textblob) (1.2.0)\n",
      "Requirement already satisfied: regex>=2021.8.3 in c:\\users\\sindhu\\anaconda3\\lib\\site-packages (from nltk>=3.8->textblob) (2023.10.3)\n",
      "Requirement already satisfied: tqdm in c:\\users\\sindhu\\anaconda3\\lib\\site-packages (from nltk>=3.8->textblob) (4.65.0)\n",
      "Requirement already satisfied: colorama in c:\\users\\sindhu\\anaconda3\\lib\\site-packages (from click->nltk>=3.8->textblob) (0.4.6)\n",
      "Downloading textblob-0.18.0.post0-py3-none-any.whl (626 kB)\n",
      "   ---------------------------------------- 0.0/626.3 kB ? eta -:--:--\n",
      "   ---------------------------------------- 0.0/626.3 kB ? eta -:--:--\n",
      "    --------------------------------------- 10.2/626.3 kB ? eta -:--:--\n",
      "    --------------------------------------- 10.2/626.3 kB ? eta -:--:--\n",
      "   - ------------------------------------- 30.7/626.3 kB 186.2 kB/s eta 0:00:04\n",
      "   - ------------------------------------- 30.7/626.3 kB 186.2 kB/s eta 0:00:04\n",
      "   -- ------------------------------------ 41.0/626.3 kB 196.9 kB/s eta 0:00:03\n",
      "   -- ------------------------------------ 41.0/626.3 kB 196.9 kB/s eta 0:00:03\n",
      "   ----- --------------------------------- 81.9/626.3 kB 255.1 kB/s eta 0:00:03\n",
      "   ----- --------------------------------- 81.9/626.3 kB 255.1 kB/s eta 0:00:03\n",
      "   ----- --------------------------------- 81.9/626.3 kB 255.1 kB/s eta 0:00:03\n",
      "   ------ ------------------------------- 112.6/626.3 kB 261.9 kB/s eta 0:00:02\n",
      "   -------- ----------------------------- 133.1/626.3 kB 280.5 kB/s eta 0:00:02\n",
      "   --------- ---------------------------- 163.8/626.3 kB 307.2 kB/s eta 0:00:02\n",
      "   ----------- -------------------------- 194.6/626.3 kB 337.0 kB/s eta 0:00:02\n",
      "   -------------- ----------------------- 235.5/626.3 kB 379.3 kB/s eta 0:00:02\n",
      "   -------------- ----------------------- 245.8/626.3 kB 376.8 kB/s eta 0:00:02\n",
      "   -------------- ----------------------- 245.8/626.3 kB 376.8 kB/s eta 0:00:02\n",
      "   ---------------- --------------------- 266.2/626.3 kB 356.1 kB/s eta 0:00:02\n",
      "   ---------------- --------------------- 276.5/626.3 kB 340.9 kB/s eta 0:00:02\n",
      "   ---------------- --------------------- 276.5/626.3 kB 340.9 kB/s eta 0:00:02\n",
      "   ------------------ ------------------- 297.0/626.3 kB 321.8 kB/s eta 0:00:02\n",
      "   ------------------- ------------------ 317.4/626.3 kB 333.2 kB/s eta 0:00:01\n",
      "   ------------------- ------------------ 327.7/626.3 kB 333.1 kB/s eta 0:00:01\n",
      "   --------------------- ---------------- 358.4/626.3 kB 342.7 kB/s eta 0:00:01\n",
      "   --------------------- ---------------- 358.4/626.3 kB 342.7 kB/s eta 0:00:01\n",
      "   ---------------------- --------------- 378.9/626.3 kB 337.0 kB/s eta 0:00:01\n",
      "   ---------------------- --------------- 378.9/626.3 kB 337.0 kB/s eta 0:00:01\n",
      "   ------------------------ ------------- 399.4/626.3 kB 332.0 kB/s eta 0:00:01\n",
      "   ------------------------ ------------- 409.6/626.3 kB 323.4 kB/s eta 0:00:01\n",
      "   ------------------------ ------------- 409.6/626.3 kB 323.4 kB/s eta 0:00:01\n",
      "   -------------------------- ----------- 430.1/626.3 kB 316.1 kB/s eta 0:00:01\n",
      "   -------------------------- ----------- 440.3/626.3 kB 309.2 kB/s eta 0:00:01\n",
      "   -------------------------- ----------- 440.3/626.3 kB 309.2 kB/s eta 0:00:01\n",
      "   -------------------------- ----------- 440.3/626.3 kB 309.2 kB/s eta 0:00:01\n",
      "   --------------------------- ---------- 460.8/626.3 kB 291.2 kB/s eta 0:00:01\n",
      "   --------------------------- ---------- 460.8/626.3 kB 291.2 kB/s eta 0:00:01\n",
      "   ----------------------------- -------- 481.3/626.3 kB 289.9 kB/s eta 0:00:01\n",
      "   ----------------------------- -------- 481.3/626.3 kB 289.9 kB/s eta 0:00:01\n",
      "   ----------------------------- -------- 481.3/626.3 kB 289.9 kB/s eta 0:00:01\n",
      "   ------------------------------- ------ 512.0/626.3 kB 281.7 kB/s eta 0:00:01\n",
      "   ------------------------------- ------ 522.2/626.3 kB 280.1 kB/s eta 0:00:01\n",
      "   ------------------------------- ------ 522.2/626.3 kB 280.1 kB/s eta 0:00:01\n",
      "   -------------------------------- ----- 542.7/626.3 kB 277.0 kB/s eta 0:00:01\n",
      "   -------------------------------- ----- 542.7/626.3 kB 277.0 kB/s eta 0:00:01\n",
      "   ---------------------------------- --- 563.2/626.3 kB 276.5 kB/s eta 0:00:01\n",
      "   ---------------------------------- --- 573.4/626.3 kB 277.3 kB/s eta 0:00:01\n",
      "   ------------------------------------ - 604.2/626.3 kB 281.5 kB/s eta 0:00:01\n",
      "   -------------------------------------- 626.3/626.3 kB 285.8 kB/s eta 0:00:00\n",
      "Installing collected packages: textblob\n",
      "Successfully installed textblob-0.18.0.post0\n"
     ]
    }
   ],
   "source": [
    "!pip install textblob"
   ]
  },
  {
   "cell_type": "markdown",
   "id": "690d5716-a651-4f88-970a-cd2d1d6d25ad",
   "metadata": {},
   "source": [
    "### Import necessary libraries"
   ]
  },
  {
   "cell_type": "code",
   "execution_count": 48,
   "id": "2640c9cd-e964-4c9c-b6a9-912b12e6ef79",
   "metadata": {},
   "outputs": [],
   "source": [
    "import pandas as pd\n",
    "from textblob import TextBlob\n",
    "import matplotlib.pyplot as plt\n",
    "import seaborn as sns"
   ]
  },
  {
   "cell_type": "markdown",
   "id": "206912ce-5db7-4bb4-a6ce-2960bfa346dd",
   "metadata": {},
   "source": [
    "### Loading the Dataset"
   ]
  },
  {
   "cell_type": "code",
   "execution_count": 54,
   "id": "fc339b7d-b092-44d7-9002-24c3a34b5499",
   "metadata": {},
   "outputs": [],
   "source": [
    "df = pd.read_csv('twitter_data.csv')"
   ]
  },
  {
   "cell_type": "markdown",
   "id": "a83378bc-7026-4a2c-acac-b192e60cca88",
   "metadata": {},
   "source": [
    "### DataStructure and content"
   ]
  },
  {
   "cell_type": "code",
   "execution_count": 56,
   "id": "5f8d00f3-2c5a-4c8b-a51b-97d021818f6d",
   "metadata": {},
   "outputs": [
    {
     "name": "stdout",
     "output_type": "stream",
     "text": [
      "<class 'pandas.core.frame.DataFrame'>\n",
      "RangeIndex: 42 entries, 0 to 41\n",
      "Data columns (total 3 columns):\n",
      " #   Column      Non-Null Count  Dtype  \n",
      "---  ------      --------------  -----  \n",
      " 0   Unnamed: 0  21 non-null     float64\n",
      " 1   id          21 non-null     float64\n",
      " 2   tweet       21 non-null     object \n",
      "dtypes: float64(2), object(1)\n",
      "memory usage: 1.1+ KB\n",
      "None\n"
     ]
    }
   ],
   "source": [
    "# Explore the dataset\n",
    "print(df.info())"
   ]
  },
  {
   "cell_type": "code",
   "execution_count": 65,
   "id": "d4ea7471-70b2-451b-941b-67cf286858f0",
   "metadata": {},
   "outputs": [
    {
     "data": {
      "text/plain": [
       "Index(['Unnamed: 0', 'id', 'tweet'], dtype='object')"
      ]
     },
     "execution_count": 65,
     "metadata": {},
     "output_type": "execute_result"
    }
   ],
   "source": [
    "df.columns"
   ]
  },
  {
   "cell_type": "code",
   "execution_count": 67,
   "id": "8326c010-3fac-4525-8ffc-bdcebb9d75a8",
   "metadata": {},
   "outputs": [
    {
     "data": {
      "text/html": [
       "<div>\n",
       "<style scoped>\n",
       "    .dataframe tbody tr th:only-of-type {\n",
       "        vertical-align: middle;\n",
       "    }\n",
       "\n",
       "    .dataframe tbody tr th {\n",
       "        vertical-align: top;\n",
       "    }\n",
       "\n",
       "    .dataframe thead th {\n",
       "        text-align: right;\n",
       "    }\n",
       "</style>\n",
       "<table border=\"1\" class=\"dataframe\">\n",
       "  <thead>\n",
       "    <tr style=\"text-align: right;\">\n",
       "      <th></th>\n",
       "      <th>count</th>\n",
       "      <th>mean</th>\n",
       "      <th>std</th>\n",
       "      <th>min</th>\n",
       "      <th>25%</th>\n",
       "      <th>50%</th>\n",
       "      <th>75%</th>\n",
       "      <th>max</th>\n",
       "    </tr>\n",
       "  </thead>\n",
       "  <tbody>\n",
       "    <tr>\n",
       "      <th>Unnamed: 0</th>\n",
       "      <td>21.0</td>\n",
       "      <td>10.0</td>\n",
       "      <td>6.204837</td>\n",
       "      <td>0.0</td>\n",
       "      <td>5.0</td>\n",
       "      <td>10.0</td>\n",
       "      <td>15.0</td>\n",
       "      <td>20.0</td>\n",
       "    </tr>\n",
       "    <tr>\n",
       "      <th>id</th>\n",
       "      <td>21.0</td>\n",
       "      <td>31973.0</td>\n",
       "      <td>6.204837</td>\n",
       "      <td>31963.0</td>\n",
       "      <td>31968.0</td>\n",
       "      <td>31973.0</td>\n",
       "      <td>31978.0</td>\n",
       "      <td>31983.0</td>\n",
       "    </tr>\n",
       "  </tbody>\n",
       "</table>\n",
       "</div>"
      ],
      "text/plain": [
       "            count     mean       std      min      25%      50%      75%  \\\n",
       "Unnamed: 0   21.0     10.0  6.204837      0.0      5.0     10.0     15.0   \n",
       "id           21.0  31973.0  6.204837  31963.0  31968.0  31973.0  31978.0   \n",
       "\n",
       "                max  \n",
       "Unnamed: 0     20.0  \n",
       "id          31983.0  "
      ]
     },
     "execution_count": 67,
     "metadata": {},
     "output_type": "execute_result"
    }
   ],
   "source": [
    "df.describe().T"
   ]
  },
  {
   "cell_type": "markdown",
   "id": "b22f7f7b-9e76-4b1f-b5a4-0873ba134dad",
   "metadata": {},
   "source": [
    "### Print the columns to identify the correct column name"
   ]
  },
  {
   "cell_type": "code",
   "execution_count": 69,
   "id": "c5996b07-e67e-4923-bcd7-5ca7b8ac4975",
   "metadata": {},
   "outputs": [
    {
     "name": "stdout",
     "output_type": "stream",
     "text": [
      "Columns in the CSV file: Index(['Unnamed: 0', 'id', 'tweet'], dtype='object')\n"
     ]
    }
   ],
   "source": [
    "print(\"Columns in the CSV file:\", df.columns)"
   ]
  },
  {
   "cell_type": "code",
   "execution_count": 71,
   "id": "8232b17e-e678-4a34-bbd8-c84f6454e8b9",
   "metadata": {},
   "outputs": [],
   "source": [
    "column_name = 'tweet' "
   ]
  },
  {
   "cell_type": "markdown",
   "id": "44dd983f-1719-4990-835e-927b0fcb03d9",
   "metadata": {},
   "source": [
    "### Cleaning the Data"
   ]
  },
  {
   "cell_type": "code",
   "execution_count": 77,
   "id": "1b75b268-bb33-40f4-8d42-19497c84a9e8",
   "metadata": {},
   "outputs": [],
   "source": [
    "df = df.dropna(subset=[column_name])  # Remove rows where the tweet column is NaN\n",
    "df[column_name] = df[column_name].astype(str)  # Ensure all entries are string"
   ]
  },
  {
   "cell_type": "markdown",
   "id": "ce432a00-6ced-46a9-9831-0dac9615dab6",
   "metadata": {},
   "source": [
    "### Preprocess and Analyzing Sentiment"
   ]
  },
  {
   "cell_type": "code",
   "execution_count": 23,
   "id": "0cd9d38e-8bc9-4216-9108-ac81037724d4",
   "metadata": {},
   "outputs": [],
   "source": [
    "def preprocess_and_analyze(tweet):\n",
    "    # Remove any unwanted characters, links, etc.\n",
    "    tweet = tweet.lower()\n",
    "    tweet = ' '.join(word for word in tweet.split() if not word.startswith('http'))\n",
    "    tweet = ' '.join(word for word in tweet.split() if word.isalpha())\n",
    "    return tweet, TextBlob(tweet).sentiment.polarity"
   ]
  },
  {
   "cell_type": "markdown",
   "id": "ccec1317-f4dc-4153-8554-25b828a93e59",
   "metadata": {},
   "source": [
    "### Apply preprocess and Sentiment analysis"
   ]
  },
  {
   "cell_type": "code",
   "execution_count": 25,
   "id": "4816a80f-ae83-469f-abaa-be5c3f6d43f9",
   "metadata": {},
   "outputs": [],
   "source": [
    "df['Cleaned_Tweet'], df['Polarity'] = zip(*df[column_name].apply(preprocess_and_analyze))"
   ]
  },
  {
   "cell_type": "markdown",
   "id": "08905942-d565-458b-8103-a4e058626ef7",
   "metadata": {},
   "source": [
    "### Classifying te Polarity"
   ]
  },
  {
   "cell_type": "code",
   "execution_count": 27,
   "id": "5572007c-74a4-4c4e-a422-cb51dddd121a",
   "metadata": {},
   "outputs": [],
   "source": [
    "def classify_sentiment(polarity):\n",
    "    if polarity > 0:\n",
    "        return 'Positive'\n",
    "    elif polarity < 0:\n",
    "        return 'Negative'\n",
    "    else:\n",
    "        return 'Neutral'"
   ]
  },
  {
   "cell_type": "code",
   "execution_count": 29,
   "id": "24caa067-bfab-4846-b459-481baa30a768",
   "metadata": {},
   "outputs": [],
   "source": [
    "df['Sentiment'] = df['Polarity'].apply(classify_sentiment)"
   ]
  },
  {
   "cell_type": "markdown",
   "id": "9d5ab18a-d6e0-4473-b9c3-389961d970d0",
   "metadata": {},
   "source": [
    "### Storing the analysis"
   ]
  },
  {
   "cell_type": "code",
   "execution_count": 31,
   "id": "3084d831-3ea8-4f91-960b-cf54898b8dcc",
   "metadata": {},
   "outputs": [],
   "source": [
    "df.to_csv('tweets_with_sentiment.csv', index=False)"
   ]
  },
  {
   "cell_type": "code",
   "execution_count": 33,
   "id": "85451eb9-6067-4676-b156-8f3fb78b4873",
   "metadata": {},
   "outputs": [
    {
     "name": "stdout",
     "output_type": "stream",
     "text": [
      "   Unnamed: 0       id                                              tweet  \\\n",
      "1         0.0  31963.0           #studiolife #aislife #requires #passion…   \n",
      "3         1.0  31964.0              something inside me dies õ¿ eyes nes…   \n",
      "5         2.0  31965.0   @user #white #supremacists want everyone to s...   \n",
      "7         3.0  31966.0     safe ways to heal your #acne!! #altwaystohe...   \n",
      "9         4.0  31967.0  is the hp and the cursed child book up for res...   \n",
      "\n",
      "                                Cleaned_Tweet  Polarity Sentiment  \n",
      "1                                                   0.0   Neutral  \n",
      "3               something inside me dies eyes       0.0   Neutral  \n",
      "5                            want everyone to       0.0   Neutral  \n",
      "7                      safe ways to heal your       0.5  Positive  \n",
      "9  is the hp and the cursed child book up for       0.0   Neutral  \n"
     ]
    }
   ],
   "source": [
    "print(df.head())"
   ]
  },
  {
   "cell_type": "code",
   "execution_count": 35,
   "id": "b8e0d3a1-bb09-4c92-9453-cd700d689884",
   "metadata": {},
   "outputs": [],
   "source": [
    "sentiment_counts = df['Sentiment'].value_counts()"
   ]
  },
  {
   "cell_type": "code",
   "execution_count": 37,
   "id": "50c03979-a521-4b94-a114-8fb5382a6b26",
   "metadata": {},
   "outputs": [
    {
     "data": {
      "image/png": "[encoded data removed]",
      "text/plain": [
       "<Figure size 640x480 with 1 Axes>"
      ]
     },
     "metadata": {},
     "output_type": "display_data"
    }
   ],
   "source": [
    "sns.barplot(x=sentiment_counts.index, y=sentiment_counts.values, palette='viridis')\n",
    "plt.title('Sentiment Analysis of Tweets')\n",
    "plt.xlabel('Sentiment')\n",
    "plt.ylabel('Count')\n",
    "plt.show()"
   ]
  }
 ],
 "metadata": {
  "kernelspec": {
   "display_name": "Python 3 (ipykernel)",
   "language": "python",
   "name": "python3"
  },
  "language_info": {
   "codemirror_mode": {
    "name": "ipython",
    "version": 3
   },
   "file_extension": ".py",
   "mimetype": "text/x-python",
   "name": "python",
   "nbconvert_exporter": "python",
   "pygments_lexer": "ipython3",
   "version": "3.11.7"
  }
 },
 "nbformat": 4,
 "nbformat_minor": 5
}
